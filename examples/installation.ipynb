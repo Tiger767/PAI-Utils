{
 "cells": [
  {
   "cell_type": "markdown",
   "metadata": {},
   "source": [
    "# Installation\n",
    "Before you can run Jupyter you will need to do these steps:\n",
    "1. Install Anaconda\n",
    "2. Create environment (e.g. conda create --name paiutils python=3.7.9 anaconda)\n",
    "3. Activate environment (e.g. activate paiutils)\n",
    "4. Start Jupyter Server with jupyter notebook\n",
    "5. Open this notebook"
   ]
  },
  {
   "cell_type": "markdown",
   "metadata": {},
   "source": [
    "Install Needed Packages\n",
    " - If you want the GPU version more steps are needed so follow [this](https://www.tensorflow.org/install/gpu)"
   ]
  },
  {
   "cell_type": "code",
   "execution_count": null,
   "metadata": {},
   "outputs": [],
   "source": [
    "USE_GPU = False\n",
    "ADD_PYAUDIO = True\n",
    "ADD_WEBRTCVAD = True\n",
    "if USE_GPU:\n",
    "    !pip install tensorflow-gpu==2.3.1\n",
    "else:\n",
    "    !pip install tensorflow==2.3.1\n",
    "if ADD_PYAUDIO:\n",
    "    !conda install pyaudio\n",
    "if ADD_WEBRTCVAD:\n",
    "    !pip install webrtcvad\n",
    "!pip install tensorflow_probability\n",
    "!pip install gym\n",
    "!pip install paiutils"
   ]
  }
 ],
 "metadata": {
  "kernelspec": {
   "display_name": "Python 3",
   "language": "python",
   "name": "python3"
  },
  "language_info": {
   "codemirror_mode": {
    "name": "ipython",
    "version": 3
   },
   "file_extension": ".py",
   "mimetype": "text/x-python",
   "name": "python",
   "nbconvert_exporter": "python",
   "pygments_lexer": "ipython3",
   "version": "3.7.9"
  }
 },
 "nbformat": 4,
 "nbformat_minor": 4
}