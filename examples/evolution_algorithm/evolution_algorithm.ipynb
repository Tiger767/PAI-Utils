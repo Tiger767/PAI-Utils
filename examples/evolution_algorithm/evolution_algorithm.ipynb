{
 "cells": [
  {
   "cell_type": "markdown",
   "metadata": {},
   "source": [
    "# Evolution Algorithm\n",
    "In this notebook, we are going to be focusing on the EvolutionAlgorithm in the evolution_algorithm module in PAI-Utils."
   ]
  },
  {
   "cell_type": "markdown",
   "metadata": {},
   "source": [
    "## Import Packages"
   ]
  },
  {
   "cell_type": "code",
   "execution_count": 1,
   "metadata": {},
   "outputs": [
    {
     "name": "stdout",
     "output_type": "stream",
     "text": [
      "[PhysicalDevice(name='/physical_device:GPU:0', device_type='GPU')]\n"
     ]
    }
   ],
   "source": [
    "import gym\n",
    "import numpy as np\n",
    "import tensorflow as tf\n",
    "from tensorflow import keras\n",
    "import matplotlib.pyplot as plt\n",
    "from IPython import display\n",
    "\n",
    "from paiutils import neural_network as nn\n",
    "from paiutils import evolution_algorithm as ea\n",
    "from paiutils.reinforcement_agents import Continuous\n",
    "\n",
    "# see if using GPU and if so enable memory growth\n",
    "gpus = tf.config.list_physical_devices('GPU')\n",
    "print(gpus)\n",
    "for gpu in gpus:\n",
    "    tf.config.experimental.set_memory_growth(gpu, True)"
   ]
  },
  {
   "cell_type": "markdown",
   "metadata": {},
   "source": [
    "## Create Environment\n",
    "We will test the EvolutionAlgorithm by using it to tune a neural network to play Pendulum-v0. For more information about the environment, click [this](https://github.com/openai/gym/wiki/Pendulum-v0)"
   ]
  },
  {
   "cell_type": "code",
   "execution_count": 2,
   "metadata": {},
   "outputs": [
    {
     "name": "stdout",
     "output_type": "stream",
     "text": [
      "200\n",
      "Box(-8.0, 8.0, (3,), float32) Box(-2.0, 2.0, (1,), float32)\n"
     ]
    }
   ],
   "source": [
    "genv = gym.make('Pendulum-v0')\n",
    "max_steps = genv._max_episode_steps\n",
    "print(max_steps)\n",
    "print(genv.observation_space, genv.action_space)\n",
    "low = genv.action_space.low\n",
    "high = genv.action_space.high\n",
    "state_shape = genv.observation_space.shape[0]\n",
    "action_size = genv.action_space.shape[0]\n",
    "\n",
    "def play_episodes(amodel, num_episodes, render=False):\n",
    "    global genv, max_steps\n",
    "    total_rewards = 0\n",
    "    img = None\n",
    "    for episode in range(1, num_episodes + 1):\n",
    "        state = genv.reset()\n",
    "        total_reward = 0\n",
    "        for step in range(max_steps):\n",
    "            if render:\n",
    "                x = genv.render(mode='rgb_array')\n",
    "                if img is None:\n",
    "                    img = plt.imshow(x)\n",
    "                else:\n",
    "                    img.set_data(x)\n",
    "                plt.axis('off')\n",
    "                display.display(plt.gcf())\n",
    "                display.clear_output(wait=True)\n",
    "            action = amodel(np.expand_dims(state, axis=0),\n",
    "                            training=False)[0].numpy()\n",
    "            state, reward, terminal, _ = genv.step(action)\n",
    "            total_reward += reward\n",
    "            if terminal:\n",
    "                break\n",
    "        total_rewards += total_reward\n",
    "    return total_rewards / num_episodes"
   ]
  },
  {
   "cell_type": "markdown",
   "metadata": {},
   "source": [
    "## Create the Model"
   ]
  },
  {
   "cell_type": "code",
   "execution_count": 3,
   "metadata": {},
   "outputs": [
    {
     "name": "stdout",
     "output_type": "stream",
     "text": [
      "Model: \"functional_1\"\n",
      "_________________________________________________________________\n",
      "Layer (type)                 Output Shape              Param #   \n",
      "=================================================================\n",
      "input_1 (InputLayer)         [(None, 3)]               0         \n",
      "_________________________________________________________________\n",
      "dense (Dense)                (None, 32)                128       \n",
      "_________________________________________________________________\n",
      "dense_1 (Dense)              (None, 32)                1056      \n",
      "_________________________________________________________________\n",
      "dense_2 (Dense)              (None, 1)                 33        \n",
      "_________________________________________________________________\n",
      "tf_op_layer_Mul (TensorFlowO [(None, 1)]               0         \n",
      "_________________________________________________________________\n",
      "tf_op_layer_AddV2 (TensorFlo [(None, 1)]               0         \n",
      "_________________________________________________________________\n",
      "tf_op_layer_AddV2_1 (TensorF [(None, 1)]               0         \n",
      "_________________________________________________________________\n",
      "tf_op_layer_Mul_1 (TensorFlo [(None, 1)]               0         \n",
      "_________________________________________________________________\n",
      "tf_op_layer_Minimum (TensorF [(None, 1)]               0         \n",
      "_________________________________________________________________\n",
      "tf_op_layer_Maximum (TensorF [(None, 1)]               0         \n",
      "=================================================================\n",
      "Total params: 1,217\n",
      "Trainable params: 1,217\n",
      "Non-trainable params: 0\n",
      "_________________________________________________________________\n",
      "[((3, 32), 96), ((32,), 32), ((32, 32), 1024), ((32,), 32), ((32, 1), 32), ((1,), 1)] 1217\n"
     ]
    }
   ],
   "source": [
    "inputs = keras.layers.Input(shape=state_shape)\n",
    "x = keras.layers.Dense(32, activation='relu')(inputs)\n",
    "x = keras.layers.Dense(32, activation='relu')(x)\n",
    "action = keras.layers.Dense(action_size, activation='tanh')(x)\n",
    "action = Continuous.scale(low, high)(action)\n",
    "action = Continuous.clip(low, high)(action)\n",
    "\n",
    "amodel = keras.Model(inputs=inputs,\n",
    "                     outputs=action)\n",
    "amodel.summary()\n",
    "\n",
    "shapes_sizes = [(x.shape, np.prod(x.shape)) for x in amodel.get_weights()]\n",
    "num_params = sum([size for _, size in shapes_sizes])\n",
    "init_flat_weights = np.hstack(\n",
    "    [x.flatten() for x in amodel.get_weights()]\n",
    ")\n",
    "print(shapes_sizes, num_params)\n",
    "\n",
    "def set_model_weights(flat_weights):\n",
    "    global amodel, shapes_sizes\n",
    "    assert len(flat_weights) == num_params\n",
    "    \n",
    "    weights = []\n",
    "    for shape, size in shapes_sizes:\n",
    "        weight = flat_weights[:size]\n",
    "        flat_weights = flat_weights[size:]\n",
    "        weights.append(np.reshape(weight, shape))\n",
    "    amodel.set_weights(weights)"
   ]
  },
  {
   "cell_type": "markdown",
   "metadata": {},
   "source": [
    "## Create Evaluation Function"
   ]
  },
  {
   "cell_type": "code",
   "execution_count": 4,
   "metadata": {},
   "outputs": [],
   "source": [
    "def create_fitness_func(num_episodes):\n",
    "    global amodel\n",
    "    def fitness_func(offspring):\n",
    "        fitnesses = []\n",
    "        for genes in offspring:\n",
    "            set_model_weights(genes)\n",
    "            fitnesses.append(\n",
    "                play_episodes(amodel, num_episodes)\n",
    "            )\n",
    "        return np.array(fitnesses)\n",
    "    return fitness_func"
   ]
  },
  {
   "cell_type": "markdown",
   "metadata": {},
   "source": [
    "## Create Evolution Algorithm"
   ]
  },
  {
   "cell_type": "code",
   "execution_count": 5,
   "metadata": {},
   "outputs": [],
   "source": [
    "mutation_rates = np.full(num_params, .3)\n",
    "distributions = [(0, 1) for _ in range(num_params)]\n",
    "\n",
    "evoalgo = ea.EvolutionAlgorithm(\n",
    "    create_fitness_func(4),\n",
    "    ea.Selection.select_highest(),\n",
    "    ea.Mutation.additive(mutation_rates, distributions),\n",
    "    ea.Crossover.single()\n",
    ")"
   ]
  },
  {
   "cell_type": "markdown",
   "metadata": {},
   "source": [
    "## Simulate Natural Selection"
   ]
  },
  {
   "cell_type": "code",
   "execution_count": 6,
   "metadata": {},
   "outputs": [
    {
     "name": "stdout",
     "output_type": "stream",
     "text": [
      "Generation 1\n",
      "Highest Fitness: -667.7251483891166 - Lowest Fitness: -1817.782537174931 - Mean Fitness: -1476.2981443543665\n",
      "Generation 2\n",
      "Highest Fitness: -731.5962202986071 - Lowest Fitness: -1785.2196397376433 - Mean Fitness: -1445.620161007253\n",
      "Generation 3\n",
      "Highest Fitness: -380.7716850058321 - Lowest Fitness: -1754.8768866409453 - Mean Fitness: -1451.1740495197646\n",
      "Generation 4\n",
      "Highest Fitness: -310.85998180889527 - Lowest Fitness: -1668.0754288653907 - Mean Fitness: -1426.4101935189776\n",
      "Generation 5\n",
      "Highest Fitness: -672.7176711035456 - Lowest Fitness: -1742.330957657079 - Mean Fitness: -1396.832350661775\n",
      "Generation 6\n",
      "Highest Fitness: -359.28917626988726 - Lowest Fitness: -1659.0917275642676 - Mean Fitness: -1362.1201391817292\n",
      "Generation 7\n",
      "Highest Fitness: -688.9940568593325 - Lowest Fitness: -1636.4084514053445 - Mean Fitness: -1371.4363898708707\n",
      "Generation 8\n",
      "Highest Fitness: -361.8815787354672 - Lowest Fitness: -1832.3639528683418 - Mean Fitness: -1356.1268194432341\n",
      "Generation 9\n",
      "Highest Fitness: -374.8080300613858 - Lowest Fitness: -1620.5708152728857 - Mean Fitness: -1316.9111749117246\n",
      "Generation 10\n",
      "Highest Fitness: -361.72614175907495 - Lowest Fitness: -1855.0995205752379 - Mean Fitness: -1282.1014537789342\n",
      "[(-1640.3157270493825, array([-0.04597902,  0.27759442, -0.17187548, ...,  0.09249139,\n",
      "       -0.34296191,  0.        ])), (-1627.7168814188065, array([-0.24958079, -1.37522594,  1.50546985, ..., -1.81390515,\n",
      "       -0.34296191, -0.75106145])), (-1625.7726684235563, array([-0.29227631,  0.27759442,  0.2248484 , ...,  0.09249139,\n",
      "        0.74157602, -0.52989931])), (-1621.8533927280087, array([-1.02819325,  0.90622789,  0.2248484 , ..., -1.27603469,\n",
      "       -0.1090613 , -0.52989931])), (-1617.1696816841247, array([-2.53126537,  0.78623196, -0.6121278 , ...,  1.81666331,\n",
      "       -0.34296191,  0.        ])), (-1594.2357229830216, array([-0.04597902,  0.27759442,  1.49087745, ...,  0.09249139,\n",
      "       -0.34296191,  2.06404842])), (-1587.955101030056, array([-0.1486577 ,  0.27759442, -0.17187548, ..., -0.09663094,\n",
      "       -1.18463029,  0.        ])), (-1584.9515083044002, array([-0.24958079, -1.37522594,  1.50546985, ..., -1.11286164,\n",
      "       -0.97979108, -0.75106145])), (-1575.8985233749022, array([-0.04597902,  0.27759442, -0.17187548, ...,  0.09249139,\n",
      "       -0.34296191,  0.        ])), (-1557.3390906720133, array([ 0.42129574, -0.05895273,  2.34512024, ..., -0.22707   ,\n",
      "        0.18773925,  0.        ])), (-1548.3094980461897, array([-0.29227631, -0.28277166,  1.11831666, ..., -0.22707   ,\n",
      "        0.24997713,  0.        ])), (-1547.476250579864, array([-0.1486577 ,  0.27759442,  0.23506688, ..., -0.09663094,\n",
      "       -1.68744062,  0.27168078])), (-1546.134529662268, array([-0.1486577 ,  0.27759442, -0.17187548, ..., -0.09663094,\n",
      "       -1.18463029,  0.27168078])), (-1542.2240362124578, array([-0.29227631, -0.28277166,  1.11831666, ..., -0.22707   ,\n",
      "        0.09727317, -2.03549568])), (-1540.1543683020036, array([ 1.39005764, -2.23883433,  1.11831666, ...,  0.44187031,\n",
      "        0.01684755, -0.31005805])), (-1538.233295712818, array([ 1.70920054,  0.90421457,  1.11831666, ..., -0.22707   ,\n",
      "       -1.53651515, -1.21880319])), (-1537.8489157040704, array([-0.29227631,  0.27759442,  1.11831666, ...,  0.09249139,\n",
      "        0.23560662,  0.        ])), (-1534.347695116104, array([ 1.39005764, -3.28675358,  1.11831666, ...,  0.26662213,\n",
      "        0.01684755,  0.        ])), (-1528.4392175227886, array([-0.04597902, -0.77906468, -0.17187548, ..., -1.81390515,\n",
      "       -0.34296191, -2.98565219])), (-1512.7194325924004, array([ 1.2482985 , -2.05227164, -0.811719  , ...,  1.48580696,\n",
      "        3.13530022,  0.69417344])), (-1508.6950491938717, array([ 1.2482985 , -2.05227164,  1.11831666, ...,  1.48580696,\n",
      "        0.01684755,  0.        ])), (-1500.5160995709584, array([ 0.42129574, -0.28277166,  1.11831666, ..., -0.22707   ,\n",
      "        0.24997713,  0.        ])), (-1498.320844619471, array([-0.94242537, -1.58041035, -1.49078933, ..., -2.86499639,\n",
      "        1.87036202, -2.26308574])), (-1495.744700506993, array([-0.29227631,  0.27759442,  0.2248484 , ..., -1.08675904,\n",
      "        0.93982447, -0.52989931])), (-1495.720718123236, array([ 0.42129574, -1.67177073,  0.74531838, ...,  1.15165948,\n",
      "       -1.53651515, -0.45879612])), (-1494.0161908491755, array([-2.11930858, -3.11971986,  1.50546985, ..., -1.87676932,\n",
      "       -1.58230153, -0.06374458])), (-1493.755133845039, array([-1.02819325,  0.98269109, -0.11190908, ..., -1.27603469,\n",
      "        1.52026137,  0.87057065])), (-1492.971079975258, array([-0.33912095,  3.10431671,  0.2248484 , ...,  0.09249139,\n",
      "       -0.10940877, -0.14243721])), (-1488.0887993608017, array([-0.04597902,  0.27759442,  0.01574239, ..., -1.19416963,\n",
      "       -0.34296191,  0.        ])), (-1486.1396899140664, array([ 0.88909862, -2.23883433,  1.11831666, ...,  0.44187031,\n",
      "        0.01684755,  0.        ])), (-1484.8862461224196, array([-0.32594072,  0.27759442, -0.17187548, ...,  1.81666331,\n",
      "       -0.34296191,  0.        ])), (-1472.7352500873012, array([-0.26179232, -0.5130516 , -0.17187548, ..., -0.62440192,\n",
      "       -0.34296191, -1.88294253])), (-1471.6271916721196, array([ 2.22012554, -2.23883433,  0.44969497, ...,  2.06348653,\n",
      "        0.87325866,  0.39361686])), (-1467.0342434323438, array([-1.02819325, -0.10445362,  0.2248484 , ..., -1.27603469,\n",
      "       -0.1090613 , -0.52989931])), (-1465.705678440168, array([ 0.99041293, -2.23883433,  1.11831666, ...,  0.44187031,\n",
      "        0.01684755,  0.        ])), (-1464.7292690028867, array([ 0.42129574, -0.28277166,  1.11831666, ...,  0.75693189,\n",
      "        0.24997713,  0.        ])), (-1463.952417113422, array([-0.04597902, -0.77906468, -0.17187548, ..., -1.81390515,\n",
      "       -0.34296191, -1.88294253])), (-1463.6530261825283, array([ 1.39005764, -2.23883433,  1.11831666, ...,  0.44187031,\n",
      "        0.01684755,  0.9906782 ])), (-1459.8056287519523, array([-0.86450377,  0.25264721,  1.67699953, ..., -1.85721777,\n",
      "        0.43409021,  0.11987744])), (-1458.8077280661641, array([-1.02819325, -0.10445362,  0.63588847, ..., -3.1379296 ,\n",
      "        1.39937219, -0.52989931])), (-1451.8278660198384, array([ 0.42129574, -0.78034841,  1.21096367, ..., -0.22707   ,\n",
      "        0.68893845,  0.        ])), (-1439.5868409031295, array([-0.24958079, -3.11971986,  1.50546985, ..., -1.87676932,\n",
      "       -0.97979108, -0.2674819 ])), (-1436.7835799513157, array([ 1.28113264,  0.27759442, -0.17187548, ...,  0.09249139,\n",
      "       -0.34296191,  0.        ])), (-1423.5245111965087, array([ 1.39005764, -2.23883433,  1.11831666, ...,  0.44187031,\n",
      "        0.01684755,  0.06664305])), (-1419.8156551578836, array([-0.24958079, -3.11971986,  1.50546985, ..., -1.87676932,\n",
      "       -0.97979108, -0.06374458])), (-1417.8876148776762, array([ 0.42129574, -0.78034841,  2.34512024, ..., -0.22707   ,\n",
      "        0.18773925,  0.        ])), (-1410.8389005967483, array([-1.02819325, -0.10445362,  0.10413059, ..., -1.27603469,\n",
      "       -0.1090613 , -0.4106095 ])), (-1408.902016075014, array([-0.04597902, -0.77906468, -0.17187548, ..., -1.81390515,\n",
      "        0.32702121, -2.1856824 ])), (-1406.777040638647, array([-1.02819325,  0.90622789,  0.2248484 , ..., -1.27603469,\n",
      "       -0.1090613 , -0.52989931])), (-1405.2102450806346, array([-0.04597902,  0.27759442, -0.17187548, ...,  0.09249139,\n",
      "       -0.3429619 ,  0.        ], dtype=float32)), (-1403.2464825408088, array([ 1.39005764, -2.23883433,  1.11831666, ...,  0.44187031,\n",
      "        0.01684755,  0.        ])), (-1401.7409376687594, array([-0.94242537, -1.58041035, -1.49078933, ..., -2.5689667 ,\n",
      "        0.32702121, -2.26308574])), (-1393.2650016764683, array([-1.02819325, -0.10445362,  0.2248484 , ..., -1.27603469,\n",
      "       -0.1090613 , -0.52989931])), (-1388.527881516437, array([-1.02819325,  0.23226462,  0.2248484 , ..., -1.27603469,\n",
      "        1.76130218,  0.87057065])), (-1387.9667407106094, array([ 1.54869938, -1.67177073,  0.74531838, ...,  1.2520896 ,\n",
      "       -1.53651515, -0.45879612])), (-1373.951964759727, array([-0.94242537, -1.58041035, -1.49078933, ..., -2.86499639,\n",
      "        0.32702121, -2.26308574])), (-1371.0149164793834, array([-0.26179232, -0.5130516 , -0.17187548, ..., -1.81390515,\n",
      "       -0.34296191, -1.88294253])), (-1369.9704391474684, array([ 0.42129574, -0.28277166,  1.11831666, ..., -0.22707   ,\n",
      "       -1.53651515, -0.45879612])), (-1349.0805757998787, array([-1.02819325, -0.10445362,  1.65262992, ..., -4.49741795,\n",
      "        1.18102215, -1.75802937])), (-1344.1078661169115, array([-0.29227631,  0.27759442,  1.11831666, ...,  0.09249139,\n",
      "        0.23560662,  0.        ])), (-1342.9685979173973, array([-0.04597902, -0.77906468, -0.17187548, ..., -1.81390515,\n",
      "       -0.34296191, -1.88294253])), (-1338.6490241645856, array([ 0.42129574, -0.54900096,  1.11831666, ..., -0.33407042,\n",
      "        0.86988877,  0.        ])), (-1337.3050159793129, array([ 0.42129574, -0.78034841,  1.11831666, ..., -0.22707   ,\n",
      "        0.68893845,  0.        ])), (-1336.4814458485093, array([-1.02819325, -0.10445362,  0.2248484 , ..., -1.27603469,\n",
      "       -0.1090613 ,  0.38533993])), (-1333.8073233875127, array([ 2.40958937,  0.51516377,  1.76539771, ...,  0.61214139,\n",
      "       -0.34296191,  2.05452039])), (-1326.9873140229433, array([ 1.18749722, -2.23883433,  0.44969497, ...,  1.1593292 ,\n",
      "        1.07439975,  0.39361686])), (-1323.6633223461436, array([-1.67716745, -0.40911779, -0.17187548, ...,  0.02121057,\n",
      "        0.12713146,  0.28681788])), (-1311.380506238717, array([-0.94242537, -1.58041035, -1.49078933, ..., -2.5689667 ,\n",
      "        0.32702121, -2.44226653])), (-1293.4055652498369, array([ 0.03401785, -1.78202466, -0.75443214, ...,  1.48580696,\n",
      "        3.13530022,  2.43491936])), (-1291.5020913734295, array([ 1.70920054,  1.50269553,  1.11831666, ..., -0.22707   ,\n",
      "       -1.53651515, -1.21880319])), (-1288.3115873857125, array([ 0.42129574, -2.52083586,  0.74531838, ...,  1.15165948,\n",
      "       -1.53651515, -0.45879612])), (-1253.6624430044285, array([ 0.42129574, -0.28277166,  1.11831666, ..., -0.33407042,\n",
      "        0.86988877,  0.        ])), (-1221.4288145170885, array([ 1.70920054, -0.28277166,  1.11831666, ..., -0.22707   ,\n",
      "       -1.53651515, -0.45879612])), (-1220.607132187561, array([ 1.2482985 , -3.017188  ,  0.05427464, ...,  1.48580696,\n",
      "        0.01684755, -0.76498435])), (-1208.617989891855, array([-0.29227631,  0.61823047,  1.07363805, ..., -0.22707   ,\n",
      "        0.24997713,  0.        ])), (-1205.2117481119726, array([-1.02819325, -0.10445362, -0.78271086, ..., -0.44382571,\n",
      "       -0.1090613 , -0.52989931])), (-1201.9817086404937, array([-0.04597902,  0.27759442,  0.01574239, ..., -1.19416963,\n",
      "       -0.34296191,  0.        ])), (-1177.3371840340512, array([ 1.39005764, -2.20529264, -0.23596852, ..., -0.11869737,\n",
      "        1.07439975,  0.39361686])), (-1175.4026922506, array([-0.24958079, -1.37522594,  1.50546985, ..., -1.11286164,\n",
      "       -0.97979108, -0.75106145])), (-1170.9439044278374, array([ 2.40958937, -1.06682868,  1.76539771, ...,  0.61214139,\n",
      "       -0.34296191,  1.57380969])), (-1130.262245609388, array([-0.86450377,  0.25264721,  2.34512024, ..., -0.22707   ,\n",
      "        0.43409021,  0.        ])), (-1119.4985119280918, array([ 1.39005764, -2.23883433,  0.44969497, ...,  0.44187031,\n",
      "        1.07439975,  0.39361686])), (-1024.714892996884, array([ 1.39005764, -1.45082049,  2.31331428, ...,  0.44187031,\n",
      "        1.07439975, -1.22581203])), (-1012.7586777663079, array([-0.26179232, -1.37522594,  1.50546985, ..., -1.81390515,\n",
      "       -0.34296191, -0.75106145])), (-1009.1501688286028, array([ 1.2482985 , -1.78202466, -0.811719  , ...,  1.48580696,\n",
      "        3.13530022,  0.69417344])), (-929.5456471575878, array([ 0.42129574, -0.28277166,  1.11831666, ..., -0.33407042,\n",
      "        1.36422515,  0.        ])), (-886.5298755702495, array([-1.68915907,  0.27759442,  1.49087745, ...,  0.09249139,\n",
      "       -1.94535729,  2.06404842])), (-875.1105756085605, array([ 0.42129574, -0.54900096,  1.11831666, ..., -0.33407042,\n",
      "        0.58657689, -0.22850475])), (-790.9269357142153, array([ 1.39005764, -2.18464172,  1.11831666, ...,  0.44187031,\n",
      "        0.01684755,  0.        ])), (-756.6774820163097, array([ 1.39005764, -3.58087091,  1.11831666, ..., -0.00610066,\n",
      "       -0.38763824,  1.13655273])), (-359.28917626988726, array([-0.29227631,  0.61823047,  1.07363805, ..., -0.22707   ,\n",
      "        0.24997713,  0.        ]))]\n",
      "-359.28917626988726\n"
     ]
    },
    {
     "ename": "NameError",
     "evalue": "name 'best_result' is not defined",
     "output_type": "error",
     "traceback": [
      "\u001b[1;31m---------------------------------------------------------------------------\u001b[0m",
      "\u001b[1;31mNameError\u001b[0m                                 Traceback (most recent call last)",
      "\u001b[1;32m<ipython-input-6-f103a8edff9a>\u001b[0m in \u001b[0;36m<module>\u001b[1;34m\u001b[0m\n\u001b[0;32m     13\u001b[0m \u001b[0mprint\u001b[0m\u001b[1;33m(\u001b[0m\u001b[0mresults\u001b[0m\u001b[1;33m)\u001b[0m\u001b[1;33m\u001b[0m\u001b[1;33m\u001b[0m\u001b[0m\n\u001b[0;32m     14\u001b[0m \u001b[0mprint\u001b[0m\u001b[1;33m(\u001b[0m\u001b[0mbest_score\u001b[0m\u001b[1;33m)\u001b[0m\u001b[1;33m\u001b[0m\u001b[1;33m\u001b[0m\u001b[0m\n\u001b[1;32m---> 15\u001b[1;33m \u001b[0mnp\u001b[0m\u001b[1;33m.\u001b[0m\u001b[0msave\u001b[0m\u001b[1;33m(\u001b[0m\u001b[1;34m'weights'\u001b[0m\u001b[1;33m,\u001b[0m \u001b[0mbest_result\u001b[0m\u001b[1;33m)\u001b[0m\u001b[1;33m\u001b[0m\u001b[1;33m\u001b[0m\u001b[0m\n\u001b[0m",
      "\u001b[1;31mNameError\u001b[0m: name 'best_result' is not defined"
     ]
    }
   ],
   "source": [
    "base_genome = init_flat_weights\n",
    "generations = 10\n",
    "population = 200\n",
    "selection_size = 10\n",
    "\n",
    "results = evoalgo.simulate(\n",
    "    base_genome, generations,\n",
    "    population, selection_size,\n",
    "    return_all_genomes=True, verbose=True\n",
    ")\n",
    "results = sorted(results, key=lambda x: x[0])\n",
    "best_score, best_weights = results[-1]\n",
    "print(results)\n",
    "print(best_score)\n",
    "np.save('weights', best_result)"
   ]
  },
  {
   "cell_type": "markdown",
   "metadata": {},
   "source": [
    "## Test the Agent"
   ]
  },
  {
   "cell_type": "code",
   "execution_count": 7,
   "metadata": {},
   "outputs": [
    {
     "data": {
      "text/plain": [
       "-153.1674381188468"
      ]
     },
     "execution_count": 7,
     "metadata": {},
     "output_type": "execute_result"
    },
    {
     "data": {
      "image/png": "[encoded data removed]",
      "text/plain": [
       "<Figure size 432x288 with 1 Axes>"
      ]
     },
     "metadata": {
      "needs_background": "light"
     },
     "output_type": "display_data"
    }
   ],
   "source": [
    "set_model_weights(best_weights)\n",
    "play_episodes(amodel, 1, render=True)"
   ]
  },
  {
   "cell_type": "markdown",
   "metadata": {},
   "source": [
    "### 100-Episode Average"
   ]
  },
  {
   "cell_type": "code",
   "execution_count": 8,
   "metadata": {},
   "outputs": [
    {
     "name": "stdout",
     "output_type": "stream",
     "text": [
      "-952.5198101585084\n"
     ]
    }
   ],
   "source": [
    "print(play_episodes(amodel, 100))"
   ]
  },
  {
   "cell_type": "markdown",
   "metadata": {},
   "source": [
    "As we can see with this very low score, the tunned model only seems to have worked for a small subset of random start positions. We can potentially resolve this by increasing the number of episodes used in the evaluation, but that would dramatically slow down the tunning."
   ]
  }
 ],
 "metadata": {
  "kernelspec": {
   "display_name": "Python 3",
   "language": "python",
   "name": "python3"
  },
  "language_info": {
   "codemirror_mode": {
    "name": "ipython",
    "version": 3
   },
   "file_extension": ".py",
   "mimetype": "text/x-python",
   "name": "python",
   "nbconvert_exporter": "python",
   "pygments_lexer": "ipython3",
   "version": "3.7.9"
  }
 },
 "nbformat": 4,
 "nbformat_minor": 2
}
