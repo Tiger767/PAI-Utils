{
 "cells": [
  {
   "cell_type": "markdown",
   "metadata": {},
   "source": [
    "# Autoencoder\n",
    "In this notebook, we are going to be focusing on the basic autoencoder trainer in autoencoder module in PAI-Utils."
   ]
  },
  {
   "cell_type": "markdown",
   "metadata": {},
   "source": [
    "## Setup\n",
    "First, we will need to import packages and get the Cifar10 dataset."
   ]
  },
  {
   "cell_type": "code",
   "execution_count": 1,
   "metadata": {},
   "outputs": [
    {
     "name": "stdout",
     "output_type": "stream",
     "text": [
      "[PhysicalDevice(name='/physical_device:GPU:0', device_type='GPU')]\n"
     ]
    }
   ],
   "source": [
    "import numpy as np\n",
    "import tensorflow as tf\n",
    "import tensorflow_datasets as tfds\n",
    "from tensorflow import keras\n",
    "import matplotlib.pyplot as plt\n",
    "from IPython.display import Image, display\n",
    "\n",
    "from paiutils import image\n",
    "from paiutils import neural_network as nn\n",
    "from paiutils import autoencoder as ae\n",
    "\n",
    "# see if using GPU and if so enable memory growth\n",
    "gpus = tf.config.list_physical_devices('GPU')\n",
    "print(gpus)\n",
    "for gpu in gpus:\n",
    "    tf.config.experimental.set_memory_growth(gpu, True)"
   ]
  },
  {
   "cell_type": "markdown",
   "metadata": {},
   "source": [
    "### Get Cifar10 Dataset\n",
    "1. Download the Cifar10 dataset\n",
    "2. Scale the images and discard the labels\n",
    "3. Batch the datasets and create a dictionary of the data"
   ]
  },
  {
   "cell_type": "code",
   "execution_count": 2,
   "metadata": {},
   "outputs": [
    {
     "name": "stdout",
     "output_type": "stream",
     "text": [
      "FeaturesDict({\n",
      "    'id': Text(shape=(), dtype=tf.string),\n",
      "    'image': Image(shape=(32, 32, 3), dtype=tf.uint8),\n",
      "    'label': ClassLabel(shape=(), dtype=tf.int64, num_classes=10),\n",
      "})\n",
      "{'test': <tfds.core.SplitInfo num_examples=10000>, 'train': <tfds.core.SplitInfo num_examples=50000>}\n",
      "<MapDataset shapes: ((32, 32, 3), (32, 32, 3)), types: (tf.float32, tf.float32)>\n"
     ]
    }
   ],
   "source": [
    "# Get dataset\n",
    "cifar = tfds.image_classification.Cifar10()\n",
    "cifar.download_and_prepare()\n",
    "print(cifar.info.features)\n",
    "print(cifar.info.splits)\n",
    "data = cifar.as_dataset()\n",
    "num_train_examples = cifar.info.splits['train'].num_examples\n",
    "\n",
    "# Preprocess dataset\n",
    "def preprocess(x):\n",
    "    img = x['image']\n",
    "    img = tf.cast(img, tf.float32) / 255.0\n",
    "    return img, img\n",
    "train_data = data['train'].map(preprocess)\n",
    "val_data = data['test'].map(preprocess)\n",
    "print(train_data)\n",
    "\n",
    "# Batch the dataset and make dictionary\n",
    "batch_size = 16\n",
    "data = {'train': train_data.repeat().batch(batch_size),\n",
    "        'validation': val_data.batch(batch_size)}\n",
    "input_shape = train_data.element_spec[0].shape\n",
    "output_shape = train_data.element_spec[1].shape"
   ]
  },
  {
   "cell_type": "markdown",
   "metadata": {},
   "source": [
    "## Create the Model\n",
    "We will now make an encoder model for encoding the image and a decoder model for decoding the encoding. We do not actually have to make the full autoencoder model as the autoencoder trainer will combine the models for us."
   ]
  },
  {
   "cell_type": "code",
   "execution_count": 3,
   "metadata": {},
   "outputs": [
    {
     "name": "stdout",
     "output_type": "stream",
     "text": [
      "Model: \"functional_7\"\n",
      "_________________________________________________________________\n",
      "Layer (type)                 Output Shape              Param #   \n",
      "=================================================================\n",
      "input_4 (InputLayer)         [(None, 32, 32, 3)]       0         \n",
      "_________________________________________________________________\n",
      "conv2d_5 (Conv2D)            (None, 16, 16, 64)        1728      \n",
      "_________________________________________________________________\n",
      "batch_normalization_10 (Batc (None, 16, 16, 64)        256       \n",
      "_________________________________________________________________\n",
      "conv2d_6 (Conv2D)            (None, 8, 8, 128)         73728     \n",
      "_________________________________________________________________\n",
      "batch_normalization_11 (Batc (None, 8, 8, 128)         512       \n",
      "_________________________________________________________________\n",
      "conv2d_7 (Conv2D)            (None, 4, 4, 256)         294912    \n",
      "_________________________________________________________________\n",
      "batch_normalization_12 (Batc (None, 4, 4, 256)         1024      \n",
      "_________________________________________________________________\n",
      "conv2d_8 (Conv2D)            (None, 2, 2, 512)         1179648   \n",
      "_________________________________________________________________\n",
      "batch_normalization_13 (Batc (None, 2, 2, 512)         2048      \n",
      "_________________________________________________________________\n",
      "flatten_1 (Flatten)          (None, 2048)              0         \n",
      "_________________________________________________________________\n",
      "dense_2 (Dense)              (None, 64)                131072    \n",
      "_________________________________________________________________\n",
      "batch_normalization_14 (Batc (None, 64)                256       \n",
      "=================================================================\n",
      "Total params: 1,685,184\n",
      "Trainable params: 1,683,136\n",
      "Non-trainable params: 2,048\n",
      "_________________________________________________________________\n",
      "Model: \"functional_9\"\n",
      "_________________________________________________________________\n",
      "Layer (type)                 Output Shape              Param #   \n",
      "=================================================================\n",
      "input_5 (InputLayer)         [(None, 64)]              0         \n",
      "_________________________________________________________________\n",
      "dense_3 (Dense)              (None, 2048)              131072    \n",
      "_________________________________________________________________\n",
      "batch_normalization_15 (Batc (None, 2048)              8192      \n",
      "_________________________________________________________________\n",
      "reshape_1 (Reshape)          (None, 2, 2, 512)         0         \n",
      "_________________________________________________________________\n",
      "conv2d_transpose_4 (Conv2DTr (None, 4, 4, 512)         2359296   \n",
      "_________________________________________________________________\n",
      "batch_normalization_16 (Batc (None, 4, 4, 512)         2048      \n",
      "_________________________________________________________________\n",
      "conv2d_transpose_5 (Conv2DTr (None, 8, 8, 256)         1179648   \n",
      "_________________________________________________________________\n",
      "batch_normalization_17 (Batc (None, 8, 8, 256)         1024      \n",
      "_________________________________________________________________\n",
      "conv2d_transpose_6 (Conv2DTr (None, 16, 16, 128)       294912    \n",
      "_________________________________________________________________\n",
      "batch_normalization_18 (Batc (None, 16, 16, 128)       512       \n",
      "_________________________________________________________________\n",
      "conv2d_transpose_7 (Conv2DTr (None, 32, 32, 64)        73728     \n",
      "_________________________________________________________________\n",
      "batch_normalization_19 (Batc (None, 32, 32, 64)        256       \n",
      "_________________________________________________________________\n",
      "conv2d_9 (Conv2D)            (None, 32, 32, 3)         195       \n",
      "=================================================================\n",
      "Total params: 4,050,883\n",
      "Trainable params: 4,044,867\n",
      "Non-trainable params: 6,016\n",
      "_________________________________________________________________\n"
     ]
    }
   ],
   "source": [
    "x0 = keras.layers.Input(shape=input_shape)\n",
    "x = nn.conv2d(64, 3, 2)(x0)\n",
    "x = nn.conv2d(128, 3, 2)(x)\n",
    "x = nn.conv2d(256, 3, 2)(x)\n",
    "x = nn.conv2d(512, 3, 2)(x)\n",
    "x = keras.layers.Flatten()(x)\n",
    "output = nn.dense(64)(x)\n",
    "encoder_model = keras.Model(inputs=x0, outputs=output)\n",
    "encoder_model.compile(optimizer='adam', loss='mse')\n",
    "encoder_model.summary()\n",
    "\n",
    "x0 = keras.layers.Input(shape=(64,))\n",
    "x = nn.dense(2048)(x0)\n",
    "x = keras.layers.Reshape((2, 2, 512))(x)\n",
    "x = nn.conv2d(512, 3, 2, transpose=True)(x)\n",
    "x = nn.conv2d(256, 3, 2, transpose=True)(x)\n",
    "x = nn.conv2d(128, 3, 2, transpose=True)(x)\n",
    "x = nn.conv2d(64, 3, 2, transpose=True)(x)\n",
    "output = nn.conv2d(3, 1, 1, activation='sigmoid', batch_norm=False)(x)\n",
    "decoder_model = keras.Model(inputs=x0, outputs=output)\n",
    "decoder_model.compile(optimizer='adam', loss='mae')\n",
    "decoder_model.summary()"
   ]
  },
  {
   "cell_type": "markdown",
   "metadata": {},
   "source": [
    "## Train the Model\n",
    "We can now use the AutoencoderTrainer to train the encoder and decoder models on the Cifar10 dataset."
   ]
  },
  {
   "cell_type": "code",
   "execution_count": 4,
   "metadata": {},
   "outputs": [
    {
     "name": "stdout",
     "output_type": "stream",
     "text": [
      "Epoch 1/10\n",
      "3125/3125 [==============================] - 26s 8ms/step - loss: 0.1020 - val_loss: 0.2131\n",
      "Epoch 2/10\n",
      "3125/3125 [==============================] - 26s 8ms/step - loss: 0.0864 - val_loss: 0.1369\n",
      "Epoch 3/10\n",
      "3125/3125 [==============================] - 26s 8ms/step - loss: 0.0826 - val_loss: 0.1010\n",
      "Epoch 4/10\n",
      "3125/3125 [==============================] - 26s 8ms/step - loss: 0.0801 - val_loss: 0.0857\n",
      "Epoch 5/10\n",
      "3125/3125 [==============================] - 26s 8ms/step - loss: 0.0779 - val_loss: 0.0806\n",
      "Epoch 6/10\n",
      "3125/3125 [==============================] - 26s 8ms/step - loss: 0.0766 - val_loss: 0.0812\n",
      "Epoch 7/10\n",
      "3125/3125 [==============================] - 26s 8ms/step - loss: 0.0756 - val_loss: 0.0772\n",
      "Epoch 8/10\n",
      "3125/3125 [==============================] - 26s 8ms/step - loss: 0.0748 - val_loss: 0.0769\n",
      "Epoch 9/10\n",
      "3125/3125 [==============================] - 26s 8ms/step - loss: 0.0739 - val_loss: 0.0741\n",
      "Epoch 10/10\n",
      "3125/3125 [==============================] - 26s 8ms/step - loss: 0.0733 - val_loss: 0.0717\n",
      "Train Data Evaluation: \n",
      "100/100 [==============================] - 0s 3ms/step - loss: 0.0702\n",
      "Validation Data Evaluation: \n",
      "100/100 [==============================] - 0s 3ms/step - loss: 0.0712\n"
     ]
    },
    {
     "data": {
      "text/plain": [
       "{'Train': 0.07024229317903519, 'Validation': 0.07122593373060226}"
      ]
     },
     "execution_count": 4,
     "metadata": {},
     "output_type": "execute_result"
    }
   ],
   "source": [
    "steps_per_epoch = int(len(train_data) // batch_size)\n",
    "trainer = ae.AutoencoderTrainer(encoder_model, decoder_model, data)\n",
    "trainer.train(10, steps_per_epoch=steps_per_epoch)\n",
    "path = trainer.save('')\n",
    "trainer.eval(steps=100)"
   ]
  },
  {
   "cell_type": "markdown",
   "metadata": {},
   "source": [
    "## Test the Model\n",
    "We will test the model by using the AutoencoderPredictor to load the saved model and weights"
   ]
  },
  {
   "cell_type": "code",
   "execution_count": 5,
   "metadata": {},
   "outputs": [
    {
     "name": "stdout",
     "output_type": "stream",
     "text": [
      "model\n",
      "Model: \"functional_11\"\n",
      "_________________________________________________________________\n",
      "Layer (type)                 Output Shape              Param #   \n",
      "=================================================================\n",
      "input_6 (InputLayer)         [(None, 32, 32, 3)]       0         \n",
      "_________________________________________________________________\n",
      "functional_7 (Functional)    (None, 64)                1685184   \n",
      "_________________________________________________________________\n",
      "functional_9 (Functional)    (None, 32, 32, 3)         4050883   \n",
      "=================================================================\n",
      "Total params: 5,736,067\n",
      "Trainable params: 5,728,003\n",
      "Non-trainable params: 8,064\n",
      "_________________________________________________________________\n",
      "\n",
      "encoder_model\n",
      "Model: \"functional_7\"\n",
      "_________________________________________________________________\n",
      "Layer (type)                 Output Shape              Param #   \n",
      "=================================================================\n",
      "input_4 (InputLayer)         [(None, 32, 32, 3)]       0         \n",
      "_________________________________________________________________\n",
      "conv2d_5 (Conv2D)            (None, 16, 16, 64)        1728      \n",
      "_________________________________________________________________\n",
      "batch_normalization_10 (Batc (None, 16, 16, 64)        256       \n",
      "_________________________________________________________________\n",
      "conv2d_6 (Conv2D)            (None, 8, 8, 128)         73728     \n",
      "_________________________________________________________________\n",
      "batch_normalization_11 (Batc (None, 8, 8, 128)         512       \n",
      "_________________________________________________________________\n",
      "conv2d_7 (Conv2D)            (None, 4, 4, 256)         294912    \n",
      "_________________________________________________________________\n",
      "batch_normalization_12 (Batc (None, 4, 4, 256)         1024      \n",
      "_________________________________________________________________\n",
      "conv2d_8 (Conv2D)            (None, 2, 2, 512)         1179648   \n",
      "_________________________________________________________________\n",
      "batch_normalization_13 (Batc (None, 2, 2, 512)         2048      \n",
      "_________________________________________________________________\n",
      "flatten_1 (Flatten)          (None, 2048)              0         \n",
      "_________________________________________________________________\n",
      "dense_2 (Dense)              (None, 64)                131072    \n",
      "_________________________________________________________________\n",
      "batch_normalization_14 (Batc (None, 64)                256       \n",
      "=================================================================\n",
      "Total params: 1,685,184\n",
      "Trainable params: 1,683,136\n",
      "Non-trainable params: 2,048\n",
      "_________________________________________________________________\n",
      "\n",
      "decoder_model\n",
      "Model: \"functional_9\"\n",
      "_________________________________________________________________\n",
      "Layer (type)                 Output Shape              Param #   \n",
      "=================================================================\n",
      "input_5 (InputLayer)         [(None, 64)]              0         \n",
      "_________________________________________________________________\n",
      "dense_3 (Dense)              (None, 2048)              131072    \n",
      "_________________________________________________________________\n",
      "batch_normalization_15 (Batc (None, 2048)              8192      \n",
      "_________________________________________________________________\n",
      "reshape_1 (Reshape)          (None, 2, 2, 512)         0         \n",
      "_________________________________________________________________\n",
      "conv2d_transpose_4 (Conv2DTr (None, 4, 4, 512)         2359296   \n",
      "_________________________________________________________________\n",
      "batch_normalization_16 (Batc (None, 4, 4, 512)         2048      \n",
      "_________________________________________________________________\n",
      "conv2d_transpose_5 (Conv2DTr (None, 8, 8, 256)         1179648   \n",
      "_________________________________________________________________\n",
      "batch_normalization_17 (Batc (None, 8, 8, 256)         1024      \n",
      "_________________________________________________________________\n",
      "conv2d_transpose_6 (Conv2DTr (None, 16, 16, 128)       294912    \n",
      "_________________________________________________________________\n",
      "batch_normalization_18 (Batc (None, 16, 16, 128)       512       \n",
      "_________________________________________________________________\n",
      "conv2d_transpose_7 (Conv2DTr (None, 32, 32, 64)        73728     \n",
      "_________________________________________________________________\n",
      "batch_normalization_19 (Batc (None, 32, 32, 64)        256       \n",
      "_________________________________________________________________\n",
      "conv2d_9 (Conv2D)            (None, 32, 32, 3)         195       \n",
      "=================================================================\n",
      "Total params: 4,050,883\n",
      "Trainable params: 4,044,867\n",
      "Non-trainable params: 6,016\n",
      "_________________________________________________________________\n",
      "\n"
     ]
    }
   ],
   "source": [
    "# path = 'trained_model1'\n",
    "predictor = ae.AutoencoderPredictor(path)"
   ]
  },
  {
   "cell_type": "markdown",
   "metadata": {},
   "source": [
    "We will display the input images on the left and the predicted images on the right."
   ]
  },
  {
   "cell_type": "code",
   "execution_count": 6,
   "metadata": {},
   "outputs": [
    {
     "data": {
      "image/png": "[encoded data removed]",
      "text/plain": [
       "<IPython.core.display.Image object>"
      ]
     },
     "metadata": {},
     "output_type": "display_data"
    },
    {
     "data": {
      "image/png": "[encoded data removed]",
      "text/plain": [
       "<IPython.core.display.Image object>"
      ]
     },
     "metadata": {},
     "output_type": "display_data"
    },
    {
     "data": {
      "image/png": "[encoded data removed]",
      "text/plain": [
       "<IPython.core.display.Image object>"
      ]
     },
     "metadata": {},
     "output_type": "display_data"
    },
    {
     "data": {
      "image/png": "[encoded data removed]",
      "text/plain": [
       "<IPython.core.display.Image object>"
      ]
     },
     "metadata": {},
     "output_type": "display_data"
    },
    {
     "data": {
      "image/png": "[encoded data removed]",
      "text/plain": [
       "<IPython.core.display.Image object>"
      ]
     },
     "metadata": {},
     "output_type": "display_data"
    },
    {
     "data": {
      "image/png": "[encoded data removed]",
      "text/plain": [
       "<IPython.core.display.Image object>"
      ]
     },
     "metadata": {},
     "output_type": "display_data"
    },
    {
     "data": {
      "image/png": "[encoded data removed]",
      "text/plain": [
       "<IPython.core.display.Image object>"
      ]
     },
     "metadata": {},
     "output_type": "display_data"
    },
    {
     "data": {
      "image/png": "[encoded data removed]",
      "text/plain": [
       "<IPython.core.display.Image object>"
      ]
     },
     "metadata": {},
     "output_type": "display_data"
    },
    {
     "data": {
      "image/png": "[encoded data removed]",
      "text/plain": [
       "<IPython.core.display.Image object>"
      ]
     },
     "metadata": {},
     "output_type": "display_data"
    },
    {
     "data": {
      "image/png": "[encoded data removed]",
      "text/plain": [
       "<IPython.core.display.Image object>"
      ]
     },
     "metadata": {},
     "output_type": "display_data"
    },
    {
     "data": {
      "image/png": "[encoded data removed]",
      "text/plain": [
       "<IPython.core.display.Image object>"
      ]
     },
     "metadata": {},
     "output_type": "display_data"
    },
    {
     "data": {
      "image/png": "[encoded data removed]",
      "text/plain": [
       "<IPython.core.display.Image object>"
      ]
     },
     "metadata": {},
     "output_type": "display_data"
    },
    {
     "data": {
      "image/png": "[encoded data removed]",
      "text/plain": [
       "<IPython.core.display.Image object>"
      ]
     },
     "metadata": {},
     "output_type": "display_data"
    },
    {
     "data": {
      "image/png": "[encoded data removed]",
      "text/plain": [
       "<IPython.core.display.Image object>"
      ]
     },
     "metadata": {},
     "output_type": "display_data"
    },
    {
     "data": {
      "image/png": "[encoded data removed]",
      "text/plain": [
       "<IPython.core.display.Image object>"
      ]
     },
     "metadata": {},
     "output_type": "display_data"
    },
    {
     "data": {
      "image/png": "[encoded data removed]",
      "text/plain": [
       "<IPython.core.display.Image object>"
      ]
     },
     "metadata": {},
     "output_type": "display_data"
    },
    {
     "data": {
      "image/png": "[encoded data removed]",
      "text/plain": [
       "<IPython.core.display.Image object>"
      ]
     },
     "metadata": {},
     "output_type": "display_data"
    },
    {
     "data": {
      "image/png": "[encoded data removed]",
      "text/plain": [
       "<IPython.core.display.Image object>"
      ]
     },
     "metadata": {},
     "output_type": "display_data"
    },
    {
     "data": {
      "image/png": "[encoded data removed]",
      "text/plain": [
       "<IPython.core.display.Image object>"
      ]
     },
     "metadata": {},
     "output_type": "display_data"
    },
    {
     "data": {
      "image/png": "[encoded data removed]",
      "text/plain": [
       "<IPython.core.display.Image object>"
      ]
     },
     "metadata": {},
     "output_type": "display_data"
    }
   ],
   "source": [
    "%matplotlib inline\n",
    "example_data = val_data.take(20)\n",
    "for example in example_data:\n",
    "    x =  example[0].numpy()\n",
    "    \n",
    "    pred = predictor.predict(x)\n",
    "    pred = pred * 255.0\n",
    "    \n",
    "    x = x * 255.0\n",
    "    ret = image.cv2.imencode('.jpg', np.hstack([image.pyr(x, 1), image.pyr(pred, 1)]))[1]\n",
    "    display(Image(data=ret))"
   ]
  },
  {
   "cell_type": "markdown",
   "metadata": {},
   "source": [
    "The model does not perform perfectly, but with a compression rate of 48x, it's somewhat impressive."
   ]
  }
 ],
 "metadata": {
  "kernelspec": {
   "display_name": "Python 3",
   "language": "python",
   "name": "python3"
  },
  "language_info": {
   "codemirror_mode": {
    "name": "ipython",
    "version": 3
   },
   "file_extension": ".py",
   "mimetype": "text/x-python",
   "name": "python",
   "nbconvert_exporter": "python",
   "pygments_lexer": "ipython3",
   "version": "3.7.9"
  }
 },
 "nbformat": 4,
 "nbformat_minor": 2
}